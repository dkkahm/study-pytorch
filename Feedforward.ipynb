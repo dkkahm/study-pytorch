{
 "cells": [
  {
   "cell_type": "code",
   "execution_count": 1,
   "metadata": {},
   "outputs": [],
   "source": [
    "import numpy as np\n",
    "import torch"
   ]
  },
  {
   "cell_type": "code",
   "execution_count": 2,
   "metadata": {},
   "outputs": [],
   "source": [
    "from torch.autograd import Variable"
   ]
  },
  {
   "cell_type": "code",
   "execution_count": 3,
   "metadata": {},
   "outputs": [],
   "source": [
    "import matplotlib.pyplot as plt"
   ]
  },
  {
   "cell_type": "code",
   "execution_count": 39,
   "metadata": {},
   "outputs": [],
   "source": [
    "import torch.nn as nn\n",
    "import torchvision.transforms as transforms\n",
    "import torchvision.datasets as dsets\n",
    "import torch.nn.functional as F"
   ]
  },
  {
   "cell_type": "code",
   "execution_count": 5,
   "metadata": {},
   "outputs": [],
   "source": [
    "train_dataset = dsets.MNIST(root=\"./data\",train=True,transform=transforms.ToTensor(), download=True)"
   ]
  },
  {
   "cell_type": "code",
   "execution_count": 6,
   "metadata": {},
   "outputs": [
    {
     "data": {
      "text/plain": [
       "60000"
      ]
     },
     "execution_count": 6,
     "metadata": {},
     "output_type": "execute_result"
    }
   ],
   "source": [
    "len(train_dataset)"
   ]
  },
  {
   "cell_type": "code",
   "execution_count": 7,
   "metadata": {},
   "outputs": [
    {
     "data": {
      "text/plain": [
       "5"
      ]
     },
     "execution_count": 7,
     "metadata": {},
     "output_type": "execute_result"
    }
   ],
   "source": [
    "train_dataset[0][1]"
   ]
  },
  {
   "cell_type": "code",
   "execution_count": 8,
   "metadata": {},
   "outputs": [
    {
     "data": {
      "text/plain": [
       "<matplotlib.image.AxesImage at 0x1900f8ac820>"
      ]
     },
     "execution_count": 8,
     "metadata": {},
     "output_type": "execute_result"
    },
    {
     "data": {
      "image/png": "[encoded data removed]",
      "text/plain": [
       "<Figure size 432x288 with 1 Axes>"
      ]
     },
     "metadata": {
      "needs_background": "light"
     },
     "output_type": "display_data"
    }
   ],
   "source": [
    "show_img = train_dataset[0][0].numpy().reshape(28, 28)\n",
    "plt.imshow(show_img, cmap='gray')"
   ]
  },
  {
   "cell_type": "code",
   "execution_count": 9,
   "metadata": {},
   "outputs": [],
   "source": [
    "test_dataset = dsets.MNIST(root=\"./data\",train=False,transform=transforms.ToTensor())"
   ]
  },
  {
   "cell_type": "code",
   "execution_count": 10,
   "metadata": {},
   "outputs": [
    {
     "data": {
      "text/plain": [
       "10000"
      ]
     },
     "execution_count": 10,
     "metadata": {},
     "output_type": "execute_result"
    }
   ],
   "source": [
    "len(test_dataset)"
   ]
  },
  {
   "cell_type": "code",
   "execution_count": 32,
   "metadata": {},
   "outputs": [],
   "source": [
    "batch_size = 100\n",
    "num_epochs = 5"
   ]
  },
  {
   "cell_type": "code",
   "execution_count": 15,
   "metadata": {},
   "outputs": [],
   "source": [
    "train_loader = torch.utils.data.DataLoader(dataset=train_dataset, batch_size=batch_size,shuffle=True)\n",
    "test_loader = torch.utils.data.DataLoader(dataset=test_dataset, batch_size=batch_size,shuffle=False)"
   ]
  },
  {
   "cell_type": "code",
   "execution_count": 40,
   "metadata": {},
   "outputs": [],
   "source": [
    "class FeedforwardNeuralNetModel(nn.Module):\n",
    "    def __init__(self, input_dim, hidden_dim, output_dim):\n",
    "        super(FeedforwardNeuralNetModel, self).__init__()\n",
    "        self.fc1 = nn.Linear(input_dim, hidden_dim)\n",
    "        self.fc2 = nn.Linear(hidden_dim, output_dim)\n",
    "        \n",
    "        \n",
    "    def forward(self, x):\n",
    "        out = self.fc1(x)\n",
    "        out = F.relu(out)\n",
    "        out = self.fc2(out)\n",
    "        return out"
   ]
  },
  {
   "cell_type": "code",
   "execution_count": 41,
   "metadata": {},
   "outputs": [],
   "source": [
    "input_dim = 28*28\n",
    "hidden_dim = 100\n",
    "output_dim = 10\n",
    "\n",
    "model = FeedforwardNeuralNetModel(input_dim, hidden_dim, output_dim)\n",
    "\n",
    "# if torch.cuda.is_available():\n",
    "#     model.cuda()"
   ]
  },
  {
   "cell_type": "code",
   "execution_count": 42,
   "metadata": {},
   "outputs": [],
   "source": [
    "criterion = nn.CrossEntropyLoss()"
   ]
  },
  {
   "cell_type": "code",
   "execution_count": 43,
   "metadata": {},
   "outputs": [],
   "source": [
    "learning_rate = 0.1\n",
    "\n",
    "optimizer = torch.optim.SGD(model.parameters(), lr=learning_rate)"
   ]
  },
  {
   "cell_type": "code",
   "execution_count": null,
   "metadata": {},
   "outputs": [
    {
     "name": "stdout",
     "output_type": "stream",
     "text": [
      "Iteration 500. Loss 0.2844070494174957. Accuracy: 91.22000122070312\n",
      "Iteration 1000. Loss 0.24519765377044678. Accuracy: 92.81999969482422\n",
      "Iteration 1500. Loss 0.32775264978408813. Accuracy: 93.93000030517578\n",
      "Iteration 2000. Loss 0.22681915760040283. Accuracy: 94.44999694824219\n",
      "Iteration 2500. Loss 0.16015809774398804. Accuracy: 95.19000244140625\n",
      "Iteration 3000. Loss 0.12060629576444626. Accuracy: 95.66999816894531\n",
      "Iteration 3500. Loss 0.13064590096473694. Accuracy: 96.0\n",
      "Iteration 4000. Loss 0.16392825543880463. Accuracy: 96.0999984741211\n",
      "Iteration 4500. Loss 0.07680615782737732. Accuracy: 96.44999694824219\n",
      "Iteration 5000. Loss 0.1264520138502121. Accuracy: 96.69999694824219\n",
      "Iteration 5500. Loss 0.042918939143419266. Accuracy: 97.0\n",
      "Iteration 6000. Loss 0.03482829034328461. Accuracy: 97.06999969482422\n",
      "Iteration 6500. Loss 0.16126957535743713. Accuracy: 97.0999984741211\n",
      "Iteration 7000. Loss 0.014370397664606571. Accuracy: 97.25\n",
      "Iteration 7500. Loss 0.08833148330450058. Accuracy: 97.41000366210938\n",
      "Iteration 8000. Loss 0.03107438050210476. Accuracy: 97.20999908447266\n",
      "Iteration 8500. Loss 0.05172765627503395. Accuracy: 97.27999877929688\n",
      "Iteration 9000. Loss 0.04067657142877579. Accuracy: 97.5999984741211\n",
      "Iteration 9500. Loss 0.06323102116584778. Accuracy: 97.4000015258789\n",
      "Iteration 10000. Loss 0.04885777086019516. Accuracy: 97.56999969482422\n",
      "Iteration 10500. Loss 0.04519379138946533. Accuracy: 97.68000030517578\n",
      "Iteration 11000. Loss 0.04065287113189697. Accuracy: 97.5\n",
      "Iteration 11500. Loss 0.02257183939218521. Accuracy: 97.58999633789062\n",
      "Iteration 12000. Loss 0.03820299357175827. Accuracy: 97.69000244140625\n",
      "Iteration 12500. Loss 0.02921830117702484. Accuracy: 97.72000122070312\n",
      "Iteration 13000. Loss 0.07449741661548615. Accuracy: 97.5999984741211\n",
      "Iteration 13500. Loss 0.04854412376880646. Accuracy: 97.63999938964844\n",
      "Iteration 14000. Loss 0.0142811955884099. Accuracy: 97.66000366210938\n",
      "Iteration 14500. Loss 0.03887132182717323. Accuracy: 97.75\n",
      "Iteration 15000. Loss 0.09502550214529037. Accuracy: 97.77999877929688\n",
      "Iteration 15500. Loss 0.03250772878527641. Accuracy: 97.8499984741211\n",
      "Iteration 16000. Loss 0.059686750173568726. Accuracy: 97.63999938964844\n",
      "Iteration 16500. Loss 0.015224616974592209. Accuracy: 97.80000305175781\n",
      "Iteration 17000. Loss 0.02178303524851799. Accuracy: 97.83000183105469\n",
      "Iteration 17500. Loss 0.02132093906402588. Accuracy: 97.87999725341797\n",
      "Iteration 18000. Loss 0.0257575623691082. Accuracy: 97.8499984741211\n",
      "Iteration 18500. Loss 0.011285103857517242. Accuracy: 97.80999755859375\n",
      "Iteration 19000. Loss 0.012161501683294773. Accuracy: 97.87999725341797\n",
      "Iteration 19500. Loss 0.025477193295955658. Accuracy: 97.80999755859375\n",
      "Iteration 20000. Loss 0.019591761752963066. Accuracy: 97.91000366210938\n",
      "Iteration 20500. Loss 0.019232165068387985. Accuracy: 97.9800033569336\n",
      "Iteration 21000. Loss 0.03120908886194229. Accuracy: 97.79000091552734\n",
      "Iteration 21500. Loss 0.00444773118942976. Accuracy: 97.88999938964844\n",
      "Iteration 22000. Loss 0.017856894060969353. Accuracy: 97.79000091552734\n",
      "Iteration 22500. Loss 0.003472414566203952. Accuracy: 97.95999908447266\n"
     ]
    }
   ],
   "source": [
    "iter = 0\n",
    "for epoch in range(num_epochs):\n",
    "    for i, (images, labels) in enumerate(train_loader):\n",
    "        images = images.view(-1, 28*28)\n",
    "        \n",
    "        optimizer.zero_grad()\n",
    "        \n",
    "        outputs = model(images)\n",
    "        \n",
    "        loss = criterion(outputs, labels)\n",
    "        \n",
    "        loss.backward()\n",
    "        \n",
    "        optimizer.step()\n",
    "        \n",
    "        iter += 1\n",
    "        \n",
    "        if iter % 500 == 0:\n",
    "            correct = 0\n",
    "            total = 0\n",
    "            for images, labels in test_loader:\n",
    "                images = images.view(-1, 28*28)\n",
    "                \n",
    "                outputs = model(images)\n",
    "                \n",
    "                _, predicted = torch.max(outputs.data, 1)\n",
    "                \n",
    "                total += labels.size(0)\n",
    "                \n",
    "                correct += (predicted == labels).sum()\n",
    "                \n",
    "            accuracy = 100 * correct / total\n",
    "            \n",
    "            print(\"Iteration {}. Loss {}. Accuracy: {}\".format(iter, loss.item(), accuracy))"
   ]
  },
  {
   "cell_type": "code",
   "execution_count": null,
   "metadata": {},
   "outputs": [],
   "source": []
  }
 ],
 "metadata": {
  "kernelspec": {
   "display_name": "Python 3",
   "language": "python",
   "name": "python3"
  },
  "language_info": {
   "codemirror_mode": {
    "name": "ipython",
    "version": 3
   },
   "file_extension": ".py",
   "mimetype": "text/x-python",
   "name": "python",
   "nbconvert_exporter": "python",
   "pygments_lexer": "ipython3",
   "version": "3.8.3"
  }
 },
 "nbformat": 4,
 "nbformat_minor": 4
}
